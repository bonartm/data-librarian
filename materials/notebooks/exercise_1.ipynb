{
 "cells": [
  {
   "cell_type": "markdown",
   "metadata": {},
   "source": [
    "# Einführung in pandas\n",
    "\n",
    "- Wie kann ich Tabellendaten in pandas einlesen?\n",
    "- Wie werden Daten in pandas angeordnet?\n",
    "- Welche Datentypen können Spalten eines DataFrames annehmen?\n",
    "- Wie kann ich einzelne Spalten oder Zeilen eines DataFrames auswählen?"
   ]
  },
  {
   "cell_type": "markdown",
   "metadata": {},
   "source": [
    "---\n",
    "##  Daten einlesen\n",
    "\n",
    "Schauen Sie sich den in der nächtsten Zelle stehenden Python-Code an, mit dem wir den Datensatz einlesen können.\n",
    "Wir verwenden die `pandas` Bibliothek, um mit Datensätzen, sogenannten `dataframes`, in Python zu arbeiten. \n",
    "\n",
    "- Führen Sie den Code aus, indem Sie die entsprechende Zelle markieren und auf den `Run` button klicken oder `Strg`+`Enter` drücken. \n",
    "> Achten Sie darauf, dass sich diese Notebook-Datei im gleichen Ordner wie die Datensatz-Datei befindet. Sonst müssen Sie ggf. den Pfad `'Library_Usage.csv'` zu der Datensatz-Datei im Code anpassen.\n",
    "- Schauen Sie sich die Dokumentation für die Funktion `head()` unter https://pandas.pydata.org/pandas-docs/stable/reference/api/pandas.DataFrame.head.html an. Finden Sie heraus, wie Sie sich die ersten 100 Zeilen anzeigen lassen können? "
   ]
  },
  {
   "cell_type": "code",
   "execution_count": null,
   "metadata": {
    "scrolled": true
   },
   "outputs": [],
   "source": [
    "# import the pandas library into the script and give it the shorter name pd\n",
    "import pandas\n",
    "\n",
    "# create a new variable with the name df. The variable references the dataframe.\n",
    "df = pandas.read_csv('Library_Usage.csv')\n",
    "\n",
    "# show the first few lines of the dataset\n",
    "df.head()"
   ]
  },
  {
   "cell_type": "markdown",
   "metadata": {},
   "source": [
    "### Programmierhinweise\n",
    "\n",
    "> - Kommentare stehen immer hinter dem `#` Zeichen.\n",
    "- Zeichenketten/ Text steht immer in Anführungszeichen, z.B `\"hallo\"` oder `'hi'`. \n",
    "- Mit dem `import` Befehl können externe Bibliotheken mit mehr Funktionalitäten geladen werden.\n",
    "- Mit einem `=` können Objekte einem Variablennamen oder einem Funktionswert zugeordnet werden, z.B: `x = 1`, oder `text = 'hallo'`\n",
    "- `dataframes` sind vom Typ `pandas.DataFrame`. Sie repräsentieren zwei-dimensionale Tabellendaten. Eine Spalte eines `dataframes` ist vom Typ `pandas.Series`. Die beiden Typen bieten verschiedene Funktionen an.\n"
   ]
  },
  {
   "cell_type": "markdown",
   "metadata": {},
   "source": [
    "---\n",
    "## Lagemaße \n",
    "\n",
    "Mit der `describe()` Funktion bekommen wir eine gute deskriptive Übersicht über den Datensatz. "
   ]
  },
  {
   "cell_type": "code",
   "execution_count": null,
   "metadata": {
    "scrolled": true
   },
   "outputs": [],
   "source": [
    "df.describe()\n",
    "# df.describe(include='all')"
   ]
  },
  {
   "cell_type": "markdown",
   "metadata": {},
   "source": [
    "> Mit dem Standardaufruf der Funktion, werden nur die numerischen/ quantitativen Spalten zusammengefasst. Dies lässt sich mit dem Funktionsargument `include='all'` ändern. \n",
    "\n",
    "Mit Blick auf die Ergebnis-Tabelle, beantworten Sie die folgenden Fragen:\n",
    "\n",
    "- Was ist die durchschnittliche Anzahl (arithmetisches Mittel) an Ausleihen (*checkouts*) und Verlängerungen (*renewals*) pro Kunde, seit Beginn der Datenerhebung?\n",
    "- Wann wurde der erste und letzte Kunde im neuen System registriert?\n",
    "- Was ist die größte Anzahl an Ausleihen, die von einem Kunden durchgeführt wurden?\n",
    "- Lesen Sie den Median (das 50% Quantil) für die Anzahl der Ausleihen ab. Warum ist der Median so viel kleiner als das arithmetische Mittel? Beides sind doch Durchschnittswerte?"
   ]
  },
  {
   "cell_type": "markdown",
   "metadata": {},
   "source": [
    "---\n",
    "## Häufigkeiten\n",
    "Mit der Funktion `value_counts()` können wir eine absolute oder relative Häufigkeitsverteilung für ein einzelnes Merkmal berechnen. Aber wie wählt man einzelne Merkmale/Spalten eines `dataframes` aus? Schauen Sie sich das folgende Beispiel an und führen Sie den Code aus:"
   ]
  },
  {
   "cell_type": "code",
   "execution_count": null,
   "metadata": {},
   "outputs": [],
   "source": [
    "# Select the column and assign it to the variable `years`\n",
    "years = df['Year Patron Registered']\n",
    "# Calculate a frequency table\n",
    "years.value_counts(sort=False)\n",
    "years.value_counts(sort=False, normalize=True)"
   ]
  },
  {
   "cell_type": "markdown",
   "metadata": {},
   "source": [
    "> Mit den Funktionsargument `normalize=True` können Sie sich auch relative Häufigkeiten zurückgeben lassen."
   ]
  },
  {
   "cell_type": "markdown",
   "metadata": {},
   "source": [
    "Versuchen Sie einmal in der folgenden Zelle mittels Programmierbefehlen die Spalte `'Age Range'` auszuwählen. Weisen Sie die einzelne Spalte einer neuen Variable, mit dem Name `age` zu und berechnen sie dann eine Häufigkeitstabelle."
   ]
  },
  {
   "cell_type": "code",
   "execution_count": null,
   "metadata": {},
   "outputs": [],
   "source": [
    "# Select the column and assign it to the variable `age`\n",
    "\n",
    "\n",
    "# Calculate a frequency table\n"
   ]
  },
  {
   "cell_type": "markdown",
   "metadata": {},
   "source": [
    "- Wie viel Prozent der Personen in der Stichprobe sind jünger als 10 Jahre?\n",
    "- Wie viele Personen sind älter als 74 (absolute und relativer Anteil)?"
   ]
  },
  {
   "cell_type": "markdown",
   "metadata": {},
   "source": [
    "> Neben der Funktion `value_counts()` gibt es viele weitere deskriptive Funktionen, die Sie auf einzelnen Spalten vom Type `pandas.Series` eines `dataframes` anwenden können. Zum Beispiel: `sum()`, `min()`, `median()`, `mean()`, `count()`, ..."
   ]
  },
  {
   "cell_type": "markdown",
   "metadata": {},
   "source": [
    "---\n",
    "##  Zusammenfassung"
   ]
  },
  {
   "cell_type": "code",
   "execution_count": null,
   "metadata": {},
   "outputs": [],
   "source": [
    "# import the pandas library into the script and give it the shorter name pd\n",
    "import pandas\n",
    "\n",
    "# create a new variable with the name df. The variable references the dataframe.\n",
    "df = pandas.read_csv('Library_Usage.csv')\n",
    "\n",
    "# show the first few lines of the dataset\n",
    "df.head()\n",
    "\n",
    "# describe the (quantitative) columns of the dataset\n",
    "df.describe()\n",
    "\n",
    "# select single columns\n",
    "patron_type = df['Patron Type Definition']\n",
    "renewals = df['Total Renewals']\n",
    "\n",
    "# calculate some descriptive statistics\n",
    "patron_type.value_counts()\n",
    "renewals.sum()\n",
    "renewals.mean()\n",
    "renewals.max()\n"
   ]
  }
 ],
 "metadata": {
  "kernelspec": {
   "display_name": "Python 3",
   "language": "python",
   "name": "python3"
  },
  "language_info": {
   "codemirror_mode": {
    "name": "ipython",
    "version": 3
   },
   "file_extension": ".py",
   "mimetype": "text/x-python",
   "name": "python",
   "nbconvert_exporter": "python",
   "pygments_lexer": "ipython3",
   "version": "3.7.3"
  }
 },
 "nbformat": 4,
 "nbformat_minor": 4
}
