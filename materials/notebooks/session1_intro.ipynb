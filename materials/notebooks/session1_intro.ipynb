{
 "cells": [
  {
   "cell_type": "markdown",
   "metadata": {},
   "source": [
    "# Session 1 - Einführung\n",
    "\n",
    "\n",
    "## Problem\n",
    "\n",
    "\n",
    "## Ziele\n",
    "\n",
    "\n",
    "## Vorbereitung\n",
    "\n",
    "\n",
    "## Was ist Statistik? Was macht Statistik?\n",
    "\n",
    "Lesen Sie Kapitel 1.1 und 1.2\n",
    "\n",
    "\n",
    "## Schritt 2\n",
    "\n",
    "\n",
    "\n",
    "\n"
   ]
  },
  {
   "cell_type": "code",
   "execution_count": null,
   "metadata": {},
   "outputs": [],
   "source": []
  },
  {
   "cell_type": "code",
   "execution_count": null,
   "metadata": {},
   "outputs": [],
   "source": []
  },
  {
   "cell_type": "markdown",
   "metadata": {},
   "source": [
    "---\n",
    "# Checkliste Session 1\n",
    "\n",
    "Ich kann ...\n",
    "- Mit jupyter notebooks arbeiten\n",
    "- Datensätze mit dem statistischen Grundvokabular beschreiben \n",
    "- Merkmale anhand ihres Skalenniveaus einordnen\n",
    "- `csv` Dateien in Python mit der `pandas` Bibliothek öffnen\n",
    "- einzelne Spalten eines Datensatzes auswählen\n",
    "- Mittelwerte, relative Häufigkeiten und andere deskriptive Statistiken auf einzelnen Spalten eines Datensatzes berechnen"
   ]
  },
  {
   "cell_type": "markdown",
   "metadata": {},
   "source": [
    "---\n",
    "## Vorbereitungen\n",
    "\n",
    "- Legen Sie einen neuen Ordner auf Ihrem Desktop an und geben Sie ihm einen passenden Projektnamen.\n",
    "- Speichern Sie diese Notebook-Datei im Projektordner ab.\n",
    "- Laden Sie den Datensatz `Library_Usage.csv` aus dem Internet herunter ([LINK](https://data.sfgov.org/api/views/qzz6-2jup/rows.csv?accessType=DOWNLOAD)) und speichern Sie ihn im Projektordner ab.\n",
    "- Lesen Sie sich die [Beschreibung des Datensatzes](https://data.sfgov.org/Culture-and-Recreation/Library-Usage/qzz6-2jup) durch. \n",
    "- In [dieser Excel Tabelle](https://data.sfgov.org/api/views/qzz6-2jup/files/72c2070f-7b56-4d14-840a-d1a70f5d0f19?download=true&filename=LIB-0003_DataDictionary_library-usage.xlsx) finden Sie eine detallierte Erklärung der einzelnen Merkmale.\n"
   ]
  }
 ],
 "metadata": {
  "kernelspec": {
   "display_name": "Python 3",
   "language": "python",
   "name": "python3"
  },
  "language_info": {
   "codemirror_mode": {
    "name": "ipython",
    "version": 3
   },
   "file_extension": ".py",
   "mimetype": "text/x-python",
   "name": "python",
   "nbconvert_exporter": "python",
   "pygments_lexer": "ipython3",
   "version": "3.7.3"
  }
 },
 "nbformat": 4,
 "nbformat_minor": 4
}
