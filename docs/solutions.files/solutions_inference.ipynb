{
 "cells": [
  {
   "cell_type": "code",
   "execution_count": null,
   "metadata": {},
   "outputs": [],
   "source": []
  },
  {
   "cell_type": "code",
   "execution_count": null,
   "metadata": {},
   "outputs": [],
   "source": [
    "1# Wie viele Merkmale besitzt der Datensatz?\n",
    "2# Wie groß ist die Stichprobengröße des Datensatzes?\n",
    "3# Wer oder was sind die Merkmalsträger?\n",
    "3# Von wann bis wann wurden die Daten erhoben?\n",
    "4# Wie lässt sich die Grundgesamtheit beschreiben? Handelt es sich um eine Vollerhebung?\n",
    "5# Welche Merkmale sind stetig? Welche diskret?\n",
    "6# Welchem Skalenniveau entsprechen die einzelnen Merkmale (Nominal-, Ordinal- oder Metrische Skala)?\n",
    "7# Enthält der Datensatz fehlende Werte?\n",
    "8# Handelt es sich um Querschnitts-, Längsschnitss- oder Paneldaten?"
   ]
  }
 ],
 "metadata": {
  "kernelspec": {
   "display_name": "Python 3",
   "language": "python",
   "name": "python3"
  },
  "language_info": {
   "codemirror_mode": {
    "name": "ipython",
    "version": 3
   },
   "file_extension": ".py",
   "mimetype": "text/x-python",
   "name": "python",
   "nbconvert_exporter": "python",
   "pygments_lexer": "ipython3",
   "version": "3.7.4"
  }
 },
 "nbformat": 4,
 "nbformat_minor": 2
}
