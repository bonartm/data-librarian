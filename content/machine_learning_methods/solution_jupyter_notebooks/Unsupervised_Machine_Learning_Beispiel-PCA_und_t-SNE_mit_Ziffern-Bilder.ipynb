{
 "cells": [
  {
   "cell_type": "markdown",
   "metadata": {},
   "source": [
    "## Klassifikation"
   ]
  },
  {
   "cell_type": "markdown",
   "metadata": {},
   "source": [
    "Wir nutzen ein Datenset, das Handschriftliche Ziffern in Form von 8x8 Feldern darstellt. Ein Beschreibung des Datensets gib es bei [scikit-learn](https://scikit-learn.org/stable/modules/generated/sklearn.datasets.load_digits.html#sklearn.datasets.load_digits) und im \n",
    "[UC Irvine Machine Learning Repository](https://archive.ics.uci.edu/ml/datasets/Optical+Recognition+of+Handwritten+Digits).\n"
   ]
  },
  {
   "cell_type": "code",
   "execution_count": 89,
   "metadata": {},
   "outputs": [],
   "source": [
    "# Wir importieren eine Funktion zu laden des Datensets und rufen dieses auf.\n",
    "from sklearn.datasets import load_digits\n",
    "digits = load_digits()"
   ]
  },
  {
   "cell_type": "code",
   "execution_count": 90,
   "metadata": {},
   "outputs": [
    {
     "data": {
      "text/plain": [
       "sklearn.utils.Bunch"
      ]
     },
     "execution_count": 90,
     "metadata": {},
     "output_type": "execute_result"
    }
   ],
   "source": [
    "# Die Daten und Metadaten sind in einem sogenannten \"Bunch\"-Objekt organisiert\n",
    "type(digits)"
   ]
  },
  {
   "cell_type": "code",
   "execution_count": 91,
   "metadata": {},
   "outputs": [
    {
     "data": {
      "text/plain": [
       "['DESCR', 'data', 'images', 'target', 'target_names']"
      ]
     },
     "execution_count": 91,
     "metadata": {},
     "output_type": "execute_result"
    }
   ],
   "source": [
    "# Dieser Bunch hat folgende Attribute.\n",
    "dir(digits)"
   ]
  },
  {
   "cell_type": "code",
   "execution_count": 92,
   "metadata": {},
   "outputs": [
    {
     "name": "stdout",
     "output_type": "stream",
     "text": [
      ".. _digits_dataset:\n",
      "\n",
      "Optical recognition of handwritten digits dataset\n",
      "--------------------------------------------------\n",
      "\n",
      "**Data Set Characteristics:**\n",
      "\n",
      "    :Number of Instances: 5620\n",
      "    :Number of Attributes: 64\n",
      "    :Attribute Information: 8x8 image of integer pixels in the range 0..16.\n",
      "    :Missing Attribute Values: None\n",
      "    :Creator: E. Alpaydin (alpaydin '@' boun.edu.tr)\n",
      "    :Date: July; 1998\n",
      "\n",
      "This is a copy of the test set of the UCI ML hand-written digits datasets\n",
      "https://archive.ics.uci.edu/ml/datasets/Optical+Recognition+of+Handwritten+Digits\n",
      "\n",
      "The data set contains images of hand-written digits: 10 classes where\n",
      "each class refers to a digit.\n",
      "\n",
      "Preprocessing programs made available by NIST were used to extract\n",
      "normalized bitmaps of handwritten digits from a preprinted form. From a\n",
      "total of 43 people, 30 contributed to the training set and different 13\n",
      "to the test set. 32x32 bitmaps are divided into nonoverlapping blocks of\n",
      "4x4 and the number of on pixels are counted in each block. This generates\n",
      "an input matrix of 8x8 where each element is an integer in the range\n",
      "0..16. This reduces dimensionality and gives invariance to small\n",
      "distortions.\n",
      "\n",
      "For info on NIST preprocessing routines, see M. D. Garris, J. L. Blue, G.\n",
      "T. Candela, D. L. Dimmick, J. Geist, P. J. Grother, S. A. Janet, and C.\n",
      "L. Wilson, NIST Form-Based Handprint Recognition System, NISTIR 5469,\n",
      "1994.\n",
      "\n",
      ".. topic:: References\n",
      "\n",
      "  - C. Kaynak (1995) Methods of Combining Multiple Classifiers and Their\n",
      "    Applications to Handwritten Digit Recognition, MSc Thesis, Institute of\n",
      "    Graduate Studies in Science and Engineering, Bogazici University.\n",
      "  - E. Alpaydin, C. Kaynak (1998) Cascading Classifiers, Kybernetika.\n",
      "  - Ken Tang and Ponnuthurai N. Suganthan and Xi Yao and A. Kai Qin.\n",
      "    Linear dimensionalityreduction using relevance weighted LDA. School of\n",
      "    Electrical and Electronic Engineering Nanyang Technological University.\n",
      "    2005.\n",
      "  - Claudio Gentile. A New Approximate Maximal Margin Classification\n",
      "    Algorithm. NIPS. 2000.\n"
     ]
    }
   ],
   "source": [
    "# Schauen wir uns mal die Beschreibung an\n",
    "print(digits.DESCR)"
   ]
  },
  {
   "cell_type": "code",
   "execution_count": 93,
   "metadata": {},
   "outputs": [
    {
     "data": {
      "text/plain": [
       "numpy.ndarray"
      ]
     },
     "execution_count": 93,
     "metadata": {},
     "output_type": "execute_result"
    }
   ],
   "source": [
    "# Die eigentlichen Daten sind in einem numpy-Array abgelegt.\n",
    "type(digits.data)"
   ]
  },
  {
   "cell_type": "code",
   "execution_count": 94,
   "metadata": {},
   "outputs": [
    {
     "data": {
      "text/plain": [
       "array([[ 0.,  0.,  5., ...,  0.,  0.,  0.],\n",
       "       [ 0.,  0.,  0., ..., 10.,  0.,  0.],\n",
       "       [ 0.,  0.,  0., ..., 16.,  9.,  0.],\n",
       "       ...,\n",
       "       [ 0.,  0.,  1., ...,  6.,  0.,  0.],\n",
       "       [ 0.,  0.,  2., ..., 12.,  0.,  0.],\n",
       "       [ 0.,  0., 10., ..., 12.,  1.,  0.]])"
      ]
     },
     "execution_count": 94,
     "metadata": {},
     "output_type": "execute_result"
    }
   ],
   "source": [
    "digits.data"
   ]
  },
  {
   "cell_type": "code",
   "execution_count": 95,
   "metadata": {},
   "outputs": [
    {
     "data": {
      "text/plain": [
       "(1797, 64)"
      ]
     },
     "execution_count": 95,
     "metadata": {},
     "output_type": "execute_result"
    }
   ],
   "source": [
    "# Schauen wir uns die Dimension der Matrix an - es handelt \n",
    "# sich um eine zweidimentionsale Matrix mit 1797 Zeilen und 64 Spalten. Es sind 1797 Bilder \n",
    "# und 64 (8x8) Features.\n",
    "digits.data.shape"
   ]
  },
  {
   "cell_type": "code",
   "execution_count": 96,
   "metadata": {},
   "outputs": [
    {
     "data": {
      "text/plain": [
       "numpy.ndarray"
      ]
     },
     "execution_count": 96,
     "metadata": {},
     "output_type": "execute_result"
    }
   ],
   "source": [
    "# Schauen wir uns die Targets an. Es ist ebenfalls ein\n",
    "# numpy-array ...\n",
    "type(digits.target)"
   ]
  },
  {
   "cell_type": "code",
   "execution_count": 97,
   "metadata": {},
   "outputs": [
    {
     "data": {
      "text/plain": [
       "(1797,)"
      ]
     },
     "execution_count": 97,
     "metadata": {},
     "output_type": "execute_result"
    }
   ],
   "source": [
    "# ... allerding mit nur einer Dimension.\n",
    "digits.target.shape"
   ]
  },
  {
   "cell_type": "code",
   "execution_count": 98,
   "metadata": {},
   "outputs": [
    {
     "data": {
      "text/plain": [
       "array([0, 1, 2, ..., 8, 9, 8])"
      ]
     },
     "execution_count": 98,
     "metadata": {},
     "output_type": "execute_result"
    }
   ],
   "source": [
    "# Jeder Wert entspricht der geschriebenen Nummer\n",
    "digits.target"
   ]
  },
  {
   "cell_type": "code",
   "execution_count": 99,
   "metadata": {},
   "outputs": [
    {
     "data": {
      "text/plain": [
       "array([0, 1, 2, 3, 4, 5, 6, 7, 8, 9])"
      ]
     },
     "execution_count": 99,
     "metadata": {},
     "output_type": "execute_result"
    }
   ],
   "source": [
    "# Der Bunch hatte noch das Attribute \"target_nams\"\n",
    "# Normalerweise wird jeder Zahl in \"targent\" hier ein Name zugeordnen.\n",
    "# Da es sich aber tatsächlich um Ziffern von 0 - 9 handelt, ist das in diesem\n",
    "# nicht wirklich nötig.\n",
    "digits.target_names"
   ]
  },
  {
   "cell_type": "code",
   "execution_count": 100,
   "metadata": {},
   "outputs": [
    {
     "data": {
      "text/plain": [
       "1797"
      ]
     },
     "execution_count": 100,
     "metadata": {},
     "output_type": "execute_result"
    }
   ],
   "source": [
    "# In diesem Datensets gibt es zusätzlich noch ein Attribute \"images\".\n",
    "# Es enthält für jedes gezeichnete Ziffer die Zahlen in ein 8x8 Matrix.\n",
    "len(digits.images)"
   ]
  },
  {
   "cell_type": "code",
   "execution_count": 101,
   "metadata": {},
   "outputs": [
    {
     "data": {
      "text/plain": [
       "array([[ 0.,  0.,  5., 13.,  9.,  1.,  0.,  0.],\n",
       "       [ 0.,  0., 13., 15., 10., 15.,  5.,  0.],\n",
       "       [ 0.,  3., 15.,  2.,  0., 11.,  8.,  0.],\n",
       "       [ 0.,  4., 12.,  0.,  0.,  8.,  8.,  0.],\n",
       "       [ 0.,  5.,  8.,  0.,  0.,  9.,  8.,  0.],\n",
       "       [ 0.,  4., 11.,  0.,  1., 12.,  7.,  0.],\n",
       "       [ 0.,  2., 14.,  5., 10., 12.,  0.,  0.],\n",
       "       [ 0.,  0.,  6., 13., 10.,  0.,  0.,  0.]])"
      ]
     },
     "execution_count": 101,
     "metadata": {},
     "output_type": "execute_result"
    }
   ],
   "source": [
    "# Schauen wir uns zum Beispiel die das erst Bild an\n",
    "digits.images[0]"
   ]
  },
  {
   "cell_type": "code",
   "execution_count": 102,
   "metadata": {},
   "outputs": [
    {
     "data": {
      "text/plain": [
       "array([[ 0.,  0., 11., 12.,  0.,  0.,  0.,  0.],\n",
       "       [ 0.,  2., 16., 16., 16., 13.,  0.,  0.],\n",
       "       [ 0.,  3., 16., 12., 10., 14.,  0.,  0.],\n",
       "       [ 0.,  1., 16.,  1., 12., 15.,  0.,  0.],\n",
       "       [ 0.,  0., 13., 16.,  9., 15.,  2.,  0.],\n",
       "       [ 0.,  0.,  0.,  3.,  0.,  9., 11.,  0.],\n",
       "       [ 0.,  0.,  0.,  0.,  9., 15.,  4.,  0.],\n",
       "       [ 0.,  0.,  9., 12., 13.,  3.,  0.,  0.]])"
      ]
     },
     "execution_count": 102,
     "metadata": {},
     "output_type": "execute_result"
    }
   ],
   "source": [
    "# oder das 10. Bild\n",
    "digits.images[9]"
   ]
  },
  {
   "cell_type": "code",
   "execution_count": 103,
   "metadata": {},
   "outputs": [
    {
     "data": {
      "image/png": "[encoded data removed]",
      "text/plain": [
       "<Figure size 720x360 with 30 Axes>"
      ]
     },
     "metadata": {
      "needs_background": "light"
     },
     "output_type": "display_data"
    }
   ],
   "source": [
    "# Wir können die in dieser Form gespeicherten Farbintensitäten\n",
    "# auch mit matplotlib anzeigen lassen. Hier zum Beispiel die\n",
    "# ersten 30 Bilder (wenn man mehr haben möchte muss man in subplot\n",
    "# mehr als 3 Zeilen angeben.)\n",
    "import matplotlib.pyplot as plt\n",
    "fig, axes = plt.subplots(3, 10, figsize=(10, 5))\n",
    "for ax, img in zip(axes.ravel(), digits.images):\n",
    "    ax.imshow(img, cmap=plt.cm.gray_r)"
   ]
  },
  {
   "cell_type": "code",
   "execution_count": 104,
   "metadata": {},
   "outputs": [],
   "source": [
    "# Um einen Klassifikator für ein Klassifikation zu trainieren\n",
    "# und dann später seine Güte zu bewerten, wird das Datenset \n",
    "# (genauer gesagt die Attribute \"data\" und \"target\") in\n",
    "# ein Trainingsset (75%) und Testset (25%) aufgeteilt. Die Konvention\n",
    "# ist hier eine großes X für den Variablen der Datenmatrix und ein kleine y\n",
    "# für den Target-Vektor zu nutzen.\n",
    "\n",
    "from sklearn.model_selection import train_test_split\n",
    "X_train, X_test, y_train, y_test = train_test_split(\n",
    "    digits['data'], digits['target'], random_state=1)"
   ]
  },
  {
   "cell_type": "code",
   "execution_count": 105,
   "metadata": {},
   "outputs": [
    {
     "data": {
      "text/plain": [
       "(1347, 64)"
      ]
     },
     "execution_count": 105,
     "metadata": {},
     "output_type": "execute_result"
    }
   ],
   "source": [
    "# Die Maße der zweidimensionalen Trainigs-Daten-Matrix\n",
    "X_train.shape"
   ]
  },
  {
   "cell_type": "code",
   "execution_count": 106,
   "metadata": {},
   "outputs": [
    {
     "data": {
      "text/plain": [
       "(450, 64)"
      ]
     },
     "execution_count": 106,
     "metadata": {},
     "output_type": "execute_result"
    }
   ],
   "source": [
    "# Die Maße der zweidimensionalen Test-Daten-Matrix\n",
    "X_test.shape"
   ]
  },
  {
   "cell_type": "code",
   "execution_count": 107,
   "metadata": {},
   "outputs": [
    {
     "data": {
      "text/plain": [
       "(1347,)"
      ]
     },
     "execution_count": 107,
     "metadata": {},
     "output_type": "execute_result"
    }
   ],
   "source": [
    "# Die Länge des Trainingsvektor entspricht der Anzahl an \n",
    "# Zeilen der Trianingsmatrix.\n",
    "y_train.shape"
   ]
  },
  {
   "cell_type": "code",
   "execution_count": 108,
   "metadata": {},
   "outputs": [
    {
     "data": {
      "text/plain": [
       "(450,)"
      ]
     },
     "execution_count": 108,
     "metadata": {},
     "output_type": "execute_result"
    }
   ],
   "source": [
    "# Die Länge des Testsvektors entspricht der Anzahl an \n",
    "# Zeilen der Testsmatrix.\n",
    "y_test.shape"
   ]
  },
  {
   "cell_type": "code",
   "execution_count": 109,
   "metadata": {},
   "outputs": [],
   "source": [
    "# Wir werden zuerst mit einem k-Nearest-Neighbor-Klassifizierer Arbeiten\n",
    "# und laden dazu die Klasse ...\n",
    "from sklearn.neighbors import KNeighborsClassifier\n",
    "\n",
    "# und erzeugen ein Objekt davon. Hierbei können wird die Anzahl an \n",
    "# zu betrachteten Nachbarn ansehen:\n",
    "knn_clf = KNeighborsClassifier(n_neighbors=1)"
   ]
  },
  {
   "cell_type": "code",
   "execution_count": 110,
   "metadata": {},
   "outputs": [
    {
     "data": {
      "text/plain": [
       "KNeighborsClassifier(algorithm='auto', leaf_size=30, metric='minkowski',\n",
       "                     metric_params=None, n_jobs=None, n_neighbors=1, p=2,\n",
       "                     weights='uniform')"
      ]
     },
     "execution_count": 110,
     "metadata": {},
     "output_type": "execute_result"
    }
   ],
   "source": [
    "# Jetzt trainieren wir den Klassifikator mit den Trainingsdaten.\n",
    "# Dafür wird in scikit-learn unabhängig von Klassifikator die\n",
    "# Methode \"fit\" genutzt.\n",
    "knn_clf.fit(X_train, y_train)"
   ]
  },
  {
   "cell_type": "code",
   "execution_count": 111,
   "metadata": {},
   "outputs": [
    {
     "data": {
      "text/plain": [
       "array([1, 5, 0, 7, 1, 0, 6, 1, 5, 4, 9, 2, 7, 8, 4, 6, 9, 3, 7, 4, 7, 1,\n",
       "       8, 6, 0, 9, 6, 1, 3, 7, 5, 9, 8, 3, 2, 8, 8, 1, 1, 0, 7, 9, 0, 0,\n",
       "       8, 7, 2, 7, 4, 3, 4, 3, 4, 0, 4, 7, 0, 5, 5, 5, 2, 1, 7, 0, 5, 1,\n",
       "       8, 3, 3, 4, 0, 3, 7, 4, 3, 4, 2, 9, 7, 3, 2, 5, 3, 4, 1, 5, 5, 2,\n",
       "       9, 2, 2, 2, 2, 7, 0, 8, 1, 7, 4, 2, 3, 8, 2, 3, 3, 0, 2, 9, 3, 2,\n",
       "       3, 2, 8, 1, 1, 9, 1, 2, 0, 4, 8, 5, 4, 4, 7, 6, 7, 6, 6, 1, 7, 5,\n",
       "       6, 3, 8, 3, 7, 1, 8, 5, 3, 4, 7, 8, 5, 0, 6, 0, 6, 3, 7, 6, 5, 6,\n",
       "       2, 2, 2, 3, 0, 7, 6, 5, 6, 4, 1, 0, 6, 0, 6, 4, 0, 9, 3, 8, 1, 2,\n",
       "       3, 1, 9, 0, 7, 6, 2, 9, 3, 5, 3, 4, 6, 3, 3, 7, 4, 9, 2, 7, 6, 1,\n",
       "       6, 8, 4, 0, 3, 1, 0, 9, 9, 9, 0, 1, 8, 6, 8, 0, 9, 5, 9, 8, 2, 3,\n",
       "       5, 3, 0, 8, 7, 4, 0, 3, 3, 3, 6, 3, 3, 2, 9, 1, 6, 9, 0, 4, 2, 2,\n",
       "       7, 9, 1, 6, 7, 6, 3, 9, 1, 9, 3, 4, 0, 6, 4, 8, 5, 3, 6, 3, 1, 4,\n",
       "       0, 4, 4, 8, 7, 9, 1, 5, 2, 7, 0, 9, 0, 4, 4, 0, 1, 0, 6, 4, 2, 8,\n",
       "       5, 0, 2, 6, 0, 1, 8, 2, 0, 9, 5, 6, 7, 0, 5, 0, 9, 1, 4, 7, 1, 7,\n",
       "       0, 6, 6, 8, 0, 2, 2, 6, 9, 9, 7, 5, 1, 7, 6, 4, 6, 1, 9, 4, 7, 1,\n",
       "       3, 7, 8, 1, 6, 9, 8, 3, 2, 4, 8, 7, 5, 5, 6, 9, 9, 8, 5, 0, 0, 4,\n",
       "       9, 3, 0, 4, 9, 4, 2, 5, 4, 9, 6, 4, 2, 6, 0, 0, 5, 6, 7, 1, 9, 2,\n",
       "       5, 1, 5, 9, 8, 7, 7, 0, 6, 9, 3, 1, 9, 3, 9, 8, 7, 0, 2, 3, 9, 9,\n",
       "       2, 8, 1, 9, 3, 3, 0, 0, 7, 3, 8, 7, 9, 9, 7, 1, 0, 4, 5, 4, 1, 7,\n",
       "       3, 6, 5, 4, 9, 0, 5, 9, 1, 4, 5, 0, 4, 3, 4, 2, 3, 9, 0, 8, 7, 8,\n",
       "       6, 9, 4, 5, 7, 8, 3, 7, 8, 3])"
      ]
     },
     "execution_count": 111,
     "metadata": {},
     "output_type": "execute_result"
    }
   ],
   "source": [
    "# Herzlichen Glückwunsch - wir haben unser aller erstes \n",
    "# Klassifikator Modell gebaut und trainiert. \n",
    "# Jetzt kann mit diesem neue Daten (also Vektoren der Länger 64 die\n",
    "# die 8x8 Bilder darstellen) um damit zu klassifizieren - in diesem\n",
    "# Fall also Vorauszusagen, welche Ziffer dargestellt wurde.\n",
    "#\n",
    "# Wir haben unsere Testdaten noch parat und können die Methode \"predict\"\n",
    "# des trainierten Klassifiers nutzen und erhalten die Voraussagen.\n",
    "knn_clf.predict(X_test)"
   ]
  },
  {
   "cell_type": "code",
   "execution_count": 112,
   "metadata": {},
   "outputs": [
    {
     "data": {
      "text/plain": [
       "0.9888888888888889"
      ]
     },
     "execution_count": 112,
     "metadata": {},
     "output_type": "execute_result"
    }
   ],
   "source": [
    "# Da wir für das Testset aber auch wissen welche Ziffern tatsächlich \n",
    "# herauskommen sollte, können wir die Methode \"score\" des Klassifiers \n",
    "# nutzen. Diese führt die Voraussage durch und Vergleich sie mit den \n",
    "# tatsächlichen Target Werten.\n",
    "knn_clf.score(X_test, y_test)"
   ]
  },
  {
   "cell_type": "code",
   "execution_count": 116,
   "metadata": {},
   "outputs": [
    {
     "data": {
      "text/plain": [
       "0.9911111111111112"
      ]
     },
     "execution_count": 116,
     "metadata": {},
     "output_type": "execute_result"
    }
   ],
   "source": [
    "# Jetzt führen wir die das gleich Verfahren (Erstellen, Traininen und Teste)\n",
    "# diese Klassifiers mit mit 3 Nachbarn als Parameter durch.\n",
    "knn_clf_3 = KNeighborsClassifier(n_neighbors=3)\n",
    "knn_clf_3.fit(X_train, y_train)\n",
    "knn_clf_3.score(X_test, y_test)"
   ]
  },
  {
   "cell_type": "code",
   "execution_count": 117,
   "metadata": {},
   "outputs": [],
   "source": [
    "# Das schön an scikit-learn ist, dass die Methoden bei Klassen\n",
    "# gleichen Types gleich sind. Sprich anderen Klassifikatoren\n",
    "# nutzen auch fit, predict und score.\n",
    "# Anmerkung - bei einigen der folgenden Klassifikatoren wir \n",
    "# von bestimmten zufälligen Zuständen ausgeganen. Um diese\n",
    "# fest zu setzen und somit die Analyse reproduzierbar zu machen\n",
    "# kann man den Parameter random_state nutzen und mit einer Zahl\n",
    "# versehen.\n",
    "#\n",
    "# Machen wir ein Klassifikation mit einem Random-Forest-Klassifikator:\n",
    "from sklearn.ensemble import RandomForestClassifier\n",
    "random_forest_cfl = RandomForestClassifier(random_state=1)"
   ]
  },
  {
   "cell_type": "code",
   "execution_count": 118,
   "metadata": {},
   "outputs": [
    {
     "data": {
      "text/plain": [
       "RandomForestClassifier(bootstrap=True, ccp_alpha=0.0, class_weight=None,\n",
       "                       criterion='gini', max_depth=None, max_features='auto',\n",
       "                       max_leaf_nodes=None, max_samples=None,\n",
       "                       min_impurity_decrease=0.0, min_impurity_split=None,\n",
       "                       min_samples_leaf=1, min_samples_split=2,\n",
       "                       min_weight_fraction_leaf=0.0, n_estimators=100,\n",
       "                       n_jobs=None, oob_score=False, random_state=1, verbose=0,\n",
       "                       warm_start=False)"
      ]
     },
     "execution_count": 118,
     "metadata": {},
     "output_type": "execute_result"
    }
   ],
   "source": [
    "random_forest_cfl.fit(X_train, y_train)"
   ]
  },
  {
   "cell_type": "code",
   "execution_count": 119,
   "metadata": {},
   "outputs": [
    {
     "data": {
      "text/plain": [
       "0.98"
      ]
     },
     "execution_count": 119,
     "metadata": {},
     "output_type": "execute_result"
    }
   ],
   "source": [
    "random_forest_cfl.score(X_test, y_test)"
   ]
  },
  {
   "cell_type": "code",
   "execution_count": 34,
   "metadata": {},
   "outputs": [],
   "source": [
    "# Machen wir eine Klassfikation mit einem SVM-Klassifikator\n",
    "from sklearn.svm import SVC\n",
    "svm_clf = SVC(random_state=1)"
   ]
  },
  {
   "cell_type": "code",
   "execution_count": 35,
   "metadata": {},
   "outputs": [
    {
     "data": {
      "text/plain": [
       "SVC(C=1.0, break_ties=False, cache_size=200, class_weight=None, coef0=0.0,\n",
       "    decision_function_shape='ovr', degree=3, gamma='scale', kernel='rbf',\n",
       "    max_iter=-1, probability=False, random_state=1, shrinking=True, tol=0.001,\n",
       "    verbose=False)"
      ]
     },
     "execution_count": 35,
     "metadata": {},
     "output_type": "execute_result"
    }
   ],
   "source": [
    "svm_clf.fit(X_train, y_train)"
   ]
  },
  {
   "cell_type": "code",
   "execution_count": 194,
   "metadata": {},
   "outputs": [
    {
     "ename": "NameError",
     "evalue": "name 'svm_clf' is not defined",
     "output_type": "error",
     "traceback": [
      "\u001b[0;31m---------------------------------------------------------------------------\u001b[0m",
      "\u001b[0;31mNameError\u001b[0m                                 Traceback (most recent call last)",
      "\u001b[0;32m<ipython-input-194-2fc157858c23>\u001b[0m in \u001b[0;36m<module>\u001b[0;34m\u001b[0m\n\u001b[0;32m----> 1\u001b[0;31m \u001b[0msvm_clf\u001b[0m\u001b[0;34m.\u001b[0m\u001b[0mscore\u001b[0m\u001b[0;34m(\u001b[0m\u001b[0mX_test\u001b[0m\u001b[0;34m,\u001b[0m \u001b[0my_test\u001b[0m\u001b[0;34m)\u001b[0m\u001b[0;34m\u001b[0m\u001b[0;34m\u001b[0m\u001b[0m\n\u001b[0m",
      "\u001b[0;31mNameError\u001b[0m: name 'svm_clf' is not defined"
     ]
    }
   ],
   "source": [
    "svm_clf.score(X_test, y_test)"
   ]
  },
  {
   "cell_type": "markdown",
   "metadata": {},
   "source": [
    "## Regression\n",
    "\n",
    "Hier führen wir eine einfach Regression von zwei Feature also in zwei Dimensionen durch, da dies sich leichter visualisieren kann. Tatsächlich ist man aber in der Anzahl an Features nicht eingeschränkt. Ziel ist es ein Regression-Model zu erstellen, in dem man einen numerischen Eingabe-Wert (x) eingibt und einen numerischen Ausgabe-Wert (y) erhält."
   ]
  },
  {
   "cell_type": "code",
   "execution_count": 140,
   "metadata": {},
   "outputs": [],
   "source": [
    "# Wir erzeugen und ein künstlichen Datenset von 500 Datenpunkten\n",
    "# mit Hilfe der Funktion make_regression. Mit dem Parameter \n",
    "# \"noise\" können wir angeben \n",
    "from sklearn.datasets import make_regression\n",
    "X_reg, y_reg = make_regression(n_samples=500, n_features=1, noise=20, random_state=1)"
   ]
  },
  {
   "cell_type": "code",
   "execution_count": 141,
   "metadata": {},
   "outputs": [
    {
     "data": {
      "text/plain": [
       "array([[-1.91835552e-01],\n",
       "       [-5.37223024e-01],\n",
       "       [ 5.64382855e-01],\n",
       "       [ 1.93752881e+00],\n",
       "       [ 1.20205486e+00],\n",
       "       [-2.43483776e+00],\n",
       "       [ 2.10025514e+00],\n",
       "       [ 1.00088142e+00],\n",
       "       [-7.67309826e-01],\n",
       "       [-7.77858827e-01],\n",
       "       [-1.09991490e-01],\n",
       "       [-4.48738033e-01],\n",
       "       [ 6.74570707e-01],\n",
       "       [ 1.74481176e+00],\n",
       "       [-2.26314243e-01],\n",
       "       [ 1.62765075e+00],\n",
       "       [ 3.69492716e-01],\n",
       "       [ 8.25029824e-01],\n",
       "       [ 8.65407629e-01],\n",
       "       [ 3.67231814e-01],\n",
       "       [ 7.78211279e-02],\n",
       "       [ 1.04444209e+00],\n",
       "       [ 8.52704062e-01],\n",
       "       [ 5.82815214e-01],\n",
       "       [-6.70662286e-01],\n",
       "       [ 5.92472801e-01],\n",
       "       [ 4.41364444e-01],\n",
       "       [-2.46169559e-02],\n",
       "       [ 1.38877940e+00],\n",
       "       [ 4.77610182e-01],\n",
       "       [ 1.61694960e+00],\n",
       "       [-7.00398505e-01],\n",
       "       [ 1.62284909e+00],\n",
       "       [ 1.04008915e+00],\n",
       "       [ 3.86539145e-01],\n",
       "       [ 2.19069973e+00],\n",
       "       [ 2.11124755e-01],\n",
       "       [ 8.38983414e-01],\n",
       "       [-3.52249846e-01],\n",
       "       [-1.02188594e+00],\n",
       "       [ 2.18697965e+00],\n",
       "       [-1.61577235e+00],\n",
       "       [ 3.15159392e-01],\n",
       "       [ 1.27852808e+00],\n",
       "       [ 6.18539131e-01],\n",
       "       [ 7.63804802e-02],\n",
       "       [-6.65754518e-01],\n",
       "       [-6.46916688e-01],\n",
       "       [ 6.61020288e-01],\n",
       "       [-4.42229280e-01],\n",
       "       [ 1.03882460e+00],\n",
       "       [ 6.02319280e-01],\n",
       "       [ 1.65275673e-02],\n",
       "       [-1.18231813e+00],\n",
       "       [-2.81736269e-01],\n",
       "       [ 4.35968568e-02],\n",
       "       [ 1.33145711e+00],\n",
       "       [-1.35977326e-01],\n",
       "       [ 1.15528789e+00],\n",
       "       [-7.49969617e-01],\n",
       "       [ 6.23362177e-01],\n",
       "       [ 3.15634947e-01],\n",
       "       [-3.96753527e-01],\n",
       "       [ 7.50411640e-01],\n",
       "       [ 3.23527354e-01],\n",
       "       [-9.35769434e-01],\n",
       "       [ 1.60037069e-01],\n",
       "       [-1.74180344e-01],\n",
       "       [-1.21974440e+00],\n",
       "       [ 4.10051647e-01],\n",
       "       [-7.33271604e-01],\n",
       "       [-8.30168864e-01],\n",
       "       [ 2.32494559e-01],\n",
       "       [ 8.40861558e-01],\n",
       "       [-3.26499498e-01],\n",
       "       [ 6.21082701e-01],\n",
       "       [-4.34956683e-01],\n",
       "       [-1.62743834e+00],\n",
       "       [ 1.14690038e+00],\n",
       "       [-9.01634490e-01],\n",
       "       [ 7.21711292e-01],\n",
       "       [-2.66218506e-01],\n",
       "       [-3.22417204e-01],\n",
       "       [-1.10447026e-01],\n",
       "       [ 1.19783084e+00],\n",
       "       [-7.55717130e-02],\n",
       "       [ 3.24274243e-01],\n",
       "       [ 7.73400683e-02],\n",
       "       [ 3.00170320e-01],\n",
       "       [-2.30839743e-01],\n",
       "       [-1.23685338e+00],\n",
       "       [-1.26645989e-02],\n",
       "       [-8.26097432e-01],\n",
       "       [ 8.84908814e-01],\n",
       "       [-1.09491185e+00],\n",
       "       [ 1.86647138e+00],\n",
       "       [-8.67768678e-01],\n",
       "       [-9.53700602e-01],\n",
       "       [-8.51455657e-01],\n",
       "       [ 1.09899633e+00],\n",
       "       [ 1.98299720e-01],\n",
       "       [-1.16017010e+00],\n",
       "       [-8.80577600e-01],\n",
       "       [ 1.11105670e+00],\n",
       "       [-6.94920901e-01],\n",
       "       [-4.79184915e-01],\n",
       "       [ 7.58805660e-01],\n",
       "       [ 5.20576337e-01],\n",
       "       [-2.02220122e+00],\n",
       "       [ 1.90915485e-01],\n",
       "       [ 9.01486892e-01],\n",
       "       [-5.32234021e-01],\n",
       "       [ 1.33526763e-02],\n",
       "       [-8.87628964e-01],\n",
       "       [-2.79097722e-01],\n",
       "       [-1.09989127e+00],\n",
       "       [-2.96641152e-01],\n",
       "       [ 5.08077548e-02],\n",
       "       [ 4.50155513e-01],\n",
       "       [-6.38730407e-01],\n",
       "       [ 8.01861032e-01],\n",
       "       [ 6.30195671e-01],\n",
       "       [-1.30653407e+00],\n",
       "       [ 1.37701210e-01],\n",
       "       [-6.03920628e-01],\n",
       "       [-3.74804687e-01],\n",
       "       [ 5.03184813e-01],\n",
       "       [ 1.25286816e+00],\n",
       "       [-7.25597119e-01],\n",
       "       [ 1.77187720e-01],\n",
       "       [ 8.75838928e-01],\n",
       "       [ 9.31102081e-01],\n",
       "       [ 6.18380262e-01],\n",
       "       [ 2.13533901e-01],\n",
       "       [-6.61344243e-01],\n",
       "       [-3.10984978e-01],\n",
       "       [-6.18036848e-01],\n",
       "       [-4.47128565e-01],\n",
       "       [ 2.05462410e+00],\n",
       "       [-7.54397941e-01],\n",
       "       [ 3.50545979e-01],\n",
       "       [ 1.45142926e+00],\n",
       "       [ 7.27813500e-01],\n",
       "       [ 2.18628366e-02],\n",
       "       [ 5.02494339e-01],\n",
       "       [-2.30153870e+00],\n",
       "       [ 1.12948391e+00],\n",
       "       [-2.09424782e+00],\n",
       "       [ 6.08514698e-01],\n",
       "       [ 1.01012718e+00],\n",
       "       [ 4.29526140e-01],\n",
       "       [ 7.94528240e-01],\n",
       "       [ 5.50537496e-01],\n",
       "       [ 1.14472371e+00],\n",
       "       [-4.11639163e-01],\n",
       "       [ 5.93578523e-01],\n",
       "       [-5.62305431e-01],\n",
       "       [-1.36444744e-01],\n",
       "       [ 8.64644065e-02],\n",
       "       [-2.41350300e+00],\n",
       "       [-4.22856961e-01],\n",
       "       [-3.10116774e-01],\n",
       "       [-4.43171931e-01],\n",
       "       [ 4.65672984e-02],\n",
       "       [-1.23005814e+00],\n",
       "       [ 4.22137467e-02],\n",
       "       [-1.06793987e-01],\n",
       "       [ 2.06578332e+00],\n",
       "       [-3.19801599e-01],\n",
       "       [ 1.71647264e-02],\n",
       "       [-6.91660752e-01],\n",
       "       [ 6.07501958e-02],\n",
       "       [ 7.92806866e-01],\n",
       "       [-5.11884476e-02],\n",
       "       [-1.34267579e+00],\n",
       "       [ 1.19008646e-01],\n",
       "       [-2.48634778e-01],\n",
       "       [ 1.20845633e+00],\n",
       "       [-1.89636092e+00],\n",
       "       [ 1.61336137e+00],\n",
       "       [ 1.45810824e+00],\n",
       "       [-1.39662042e+00],\n",
       "       [ 1.70459417e+00],\n",
       "       [ 1.23616403e+00],\n",
       "       [-6.87172700e-01],\n",
       "       [-1.11911540e+00],\n",
       "       [ 1.56263850e-01],\n",
       "       [-8.77281519e-01],\n",
       "       [-1.11487105e+00],\n",
       "       [ 8.70969803e-01],\n",
       "       [-1.75458969e-01],\n",
       "       [ 2.05635552e+00],\n",
       "       [ 1.81053491e+00],\n",
       "       [-9.55425262e-01],\n",
       "       [ 8.85141164e-01],\n",
       "       [ 1.96710175e+00],\n",
       "       [-1.44087602e+00],\n",
       "       [-1.94332341e+00],\n",
       "       [-1.94258918e+00],\n",
       "       [-3.84054355e-01],\n",
       "       [-2.78253447e+00],\n",
       "       [-2.23708651e+00],\n",
       "       [ 4.38166347e-01],\n",
       "       [-2.67888080e-01],\n",
       "       [-5.08457134e-01],\n",
       "       [ 8.24005618e-01],\n",
       "       [-1.85798186e+00],\n",
       "       [-4.75372875e-01],\n",
       "       [-2.03720123e+00],\n",
       "       [-5.68244809e-02],\n",
       "       [-1.98837863e-01],\n",
       "       [-1.76068856e+00],\n",
       "       [ 9.39168744e-01],\n",
       "       [ 1.12232832e+00],\n",
       "       [ 1.54335911e+00],\n",
       "       [-7.85533997e-01],\n",
       "       [ 1.55880554e+00],\n",
       "       [-1.04458938e+00],\n",
       "       [ 5.85910431e-01],\n",
       "       [ 2.62467445e-01],\n",
       "       [-1.05344713e-01],\n",
       "       [-8.77858418e-01],\n",
       "       [ 6.74711526e-01],\n",
       "       [-1.72428208e-01],\n",
       "       [-6.06524918e-02],\n",
       "       [ 8.09271010e-02],\n",
       "       [ 2.11060505e+00],\n",
       "       [-1.68405999e+00],\n",
       "       [ 1.29101580e-01],\n",
       "       [ 6.59049796e-01],\n",
       "       [-1.01745873e-01],\n",
       "       [-7.75161619e-01],\n",
       "       [-1.89148284e-03],\n",
       "       [ 1.13162939e+00],\n",
       "       [ 3.03085711e+00],\n",
       "       [ 2.48799161e-01],\n",
       "       [ 1.39984394e+00],\n",
       "       [ 2.80665077e-01],\n",
       "       [-7.61206901e-01],\n",
       "       [ 4.03491642e-01],\n",
       "       [ 1.40754000e+00],\n",
       "       [ 9.54250872e-02],\n",
       "       [ 2.18557541e+00],\n",
       "       [ 1.34048197e-01],\n",
       "       [ 4.66643267e-01],\n",
       "       [-1.74703160e-01],\n",
       "       [ 8.24584625e-01],\n",
       "       [-1.17598267e+00],\n",
       "       [ 4.61164100e-01],\n",
       "       [ 9.21450069e-01],\n",
       "       [ 8.08844360e-01],\n",
       "       [-5.17094458e-01],\n",
       "       [ 1.78975468e+00],\n",
       "       [ 6.82551407e-01],\n",
       "       [-2.14246673e+00],\n",
       "       [ 1.13376944e+00],\n",
       "       [ 6.17203110e-01],\n",
       "       [ 5.15413802e-01],\n",
       "       [-1.15985185e-01],\n",
       "       [-3.06204013e-01],\n",
       "       [ 1.16033857e+00],\n",
       "       [ 6.74396105e-01],\n",
       "       [ 1.95487808e+00],\n",
       "       [-8.59515941e-01],\n",
       "       [-7.22391905e-01],\n",
       "       [-6.11756414e-01],\n",
       "       [ 8.63345318e-01],\n",
       "       [ 3.38011697e-01],\n",
       "       [-2.22328143e-01],\n",
       "       [-9.18440038e-01],\n",
       "       [ 1.35010682e+00],\n",
       "       [ 4.92336556e-01],\n",
       "       [ 1.79215821e+00],\n",
       "       [ 5.02740882e-01],\n",
       "       [-1.80920302e-01],\n",
       "       [-4.97025792e-02],\n",
       "       [ 3.77563786e-01],\n",
       "       [-6.20000844e-01],\n",
       "       [ 5.34095368e-02],\n",
       "       [-2.49370375e-01],\n",
       "       [-4.00878192e-01],\n",
       "       [ 1.23289919e+00],\n",
       "       [-3.75284950e-01],\n",
       "       [ 1.83471763e+00],\n",
       "       [-5.28171752e-01],\n",
       "       [-2.54179868e-01],\n",
       "       [-1.77756638e+00],\n",
       "       [ 1.19891788e+00],\n",
       "       [-4.29142278e-01],\n",
       "       [-6.71246131e-01],\n",
       "       [ 5.12929820e-01],\n",
       "       [-1.90221025e-01],\n",
       "       [-5.45774168e-01],\n",
       "       [-4.98213564e-01],\n",
       "       [ 9.86335188e-01],\n",
       "       [ 1.11570180e+00],\n",
       "       [-2.28765829e-01],\n",
       "       [ 9.20615118e-01],\n",
       "       [ 1.76024923e+00],\n",
       "       [ 1.86561391e-01],\n",
       "       [ 2.13782807e+00],\n",
       "       [ 3.13547720e-01],\n",
       "       [ 7.84770651e-01],\n",
       "       [-2.36436952e-01],\n",
       "       [-7.81911683e-01],\n",
       "       [-7.01344426e-01],\n",
       "       [ 1.12341216e+00],\n",
       "       [ 2.40737092e-01],\n",
       "       [ 8.36004719e-01],\n",
       "       [-4.68673816e-01],\n",
       "       [-1.20464572e-01],\n",
       "       [-5.33020326e-01],\n",
       "       [-6.72448039e-01],\n",
       "       [-6.23530730e-01],\n",
       "       [-2.98092835e-01],\n",
       "       [-7.97269785e-01],\n",
       "       [ 3.53600971e-02],\n",
       "       [-3.84832249e-01],\n",
       "       [ 2.30094735e-01],\n",
       "       [-2.00758069e-01],\n",
       "       [-1.18771172e-01],\n",
       "       [ 2.76499305e-01],\n",
       "       [ 1.69382433e-01],\n",
       "       [-2.08894233e-01],\n",
       "       [-1.84176326e-01],\n",
       "       [-6.94693595e-01],\n",
       "       [-8.45205641e-01],\n",
       "       [-3.43853676e-01],\n",
       "       [-3.43900709e-01],\n",
       "       [-1.86569772e-01],\n",
       "       [-3.49342722e-01],\n",
       "       [-9.97026828e-01],\n",
       "       [ 1.04499441e+00],\n",
       "       [-4.13029310e-01],\n",
       "       [ 6.21803504e-01],\n",
       "       [-1.14251820e+00],\n",
       "       [-6.17362064e-01],\n",
       "       [ 5.84646610e-01],\n",
       "       [-1.95210529e+00],\n",
       "       [ 4.88518147e-01],\n",
       "       [ 8.46160648e-01],\n",
       "       [-6.93286967e-02],\n",
       "       [-4.79157099e-01],\n",
       "       [-1.00155233e-01],\n",
       "       [-1.68198840e-01],\n",
       "       [-1.10771250e+00],\n",
       "       [ 9.01590721e-01],\n",
       "       [-1.10061918e+00],\n",
       "       [ 4.36689932e-02],\n",
       "       [ 9.00855949e-01],\n",
       "       [ 4.23494354e-01],\n",
       "       [ 1.22450770e+00],\n",
       "       [-3.86955093e-02],\n",
       "       [-1.52568032e+00],\n",
       "       [-7.05840507e-01],\n",
       "       [ 1.11813340e+00],\n",
       "       [-6.83727859e-01],\n",
       "       [-1.12201873e+00],\n",
       "       [-4.47895185e-01],\n",
       "       [ 4.51122939e-01],\n",
       "       [-7.47158294e-01],\n",
       "       [-2.87307863e-01],\n",
       "       [ 1.85156417e-01],\n",
       "       [-1.02887218e-01],\n",
       "       [-1.07296862e+00],\n",
       "       [ 2.42669441e-01],\n",
       "       [-9.33914656e-01],\n",
       "       [ 1.95607890e+00],\n",
       "       [ 1.65980218e+00],\n",
       "       [ 7.77419205e-01],\n",
       "       [ 4.51615951e-01],\n",
       "       [-1.95057341e-01],\n",
       "       [-1.44411381e+00],\n",
       "       [-1.11647002e+00],\n",
       "       [ 8.54894544e-03],\n",
       "       [ 4.17302005e-01],\n",
       "       [ 1.19268607e+00],\n",
       "       [ 1.06222724e-01],\n",
       "       [-8.67787223e-01],\n",
       "       [-8.90555584e-01],\n",
       "       [ 2.05117344e+00],\n",
       "       [ 5.30355467e-01],\n",
       "       [-1.86578994e-01],\n",
       "       [ 3.19039096e-01],\n",
       "       [-6.36995647e-01],\n",
       "       [ 1.29322588e+00],\n",
       "       [ 1.20158952e-01],\n",
       "       [-1.75592564e+00],\n",
       "       [-1.19054188e-01],\n",
       "       [-2.11416392e+00],\n",
       "       [ 5.85662000e-01],\n",
       "       [ 1.12141771e+00],\n",
       "       [ 5.62761097e-01],\n",
       "       [ 1.69245460e+00],\n",
       "       [-1.42655542e+00],\n",
       "       [-6.80678141e-01],\n",
       "       [-1.53879325e+00],\n",
       "       [ 4.95211324e-01],\n",
       "       [-1.47115693e+00],\n",
       "       [-1.30572692e+00],\n",
       "       [-1.33195167e+00],\n",
       "       [ 1.21821271e-01],\n",
       "       [ 4.08900538e-01],\n",
       "       [ 8.05393424e-01],\n",
       "       [ 1.11438298e+00],\n",
       "       [ 1.76533510e+00],\n",
       "       [ 8.76168921e-01],\n",
       "       [ 1.10417433e+00],\n",
       "       [ 1.03368687e+00],\n",
       "       [-2.50644065e+00],\n",
       "       [ 5.15073614e-01],\n",
       "       [-5.93843067e-01],\n",
       "       [-2.37941936e-01],\n",
       "       [ 8.10951673e-01],\n",
       "       [ 2.52832571e+00],\n",
       "       [ 3.52494364e-01],\n",
       "       [-5.86523939e-01],\n",
       "       [-3.44987210e-01],\n",
       "       [ 4.20282204e-01],\n",
       "       [ 7.40556451e-01],\n",
       "       [ 7.95026094e-01],\n",
       "       [ 3.10272288e-01],\n",
       "       [-1.37311732e+00],\n",
       "       [ 1.09402696e-01],\n",
       "       [-1.77183179e-02],\n",
       "       [-2.06014071e+00],\n",
       "       [-2.03394449e-01],\n",
       "       [-1.87316098e+00],\n",
       "       [ 8.27974643e-01],\n",
       "       [-5.57494722e-01],\n",
       "       [-8.22467189e-01],\n",
       "       [-1.31228341e+00],\n",
       "       [ 2.85587325e-01],\n",
       "       [ 6.80069840e-01],\n",
       "       [-1.98998184e-01],\n",
       "       [-7.31127037e-02],\n",
       "       [-4.14846901e-01],\n",
       "       [-3.74438319e-01],\n",
       "       [-5.04465863e-01],\n",
       "       [-2.97361883e-01],\n",
       "       [ 1.46089238e+00],\n",
       "       [ 6.98032034e-01],\n",
       "       [ 2.82675712e-01],\n",
       "       [ 6.54580153e-01],\n",
       "       [ 3.66332015e-01],\n",
       "       [ 8.68886157e-01],\n",
       "       [ 1.62434536e+00],\n",
       "       [-2.79308500e+00],\n",
       "       [-3.31283170e-01],\n",
       "       [-5.99804531e-01],\n",
       "       [-1.40232915e+00],\n",
       "       [ 5.28879746e-01],\n",
       "       [-1.65072127e+00],\n",
       "       [-1.27255876e+00],\n",
       "       [ 3.05267040e-01],\n",
       "       [-4.18937898e-01],\n",
       "       [-3.53679249e-02],\n",
       "       [ 4.51284016e-01],\n",
       "       [-8.28627979e-01],\n",
       "       [ 3.50167159e-01],\n",
       "       [ 1.76795995e+00],\n",
       "       [-8.30171895e-01],\n",
       "       [ 7.14789597e-01],\n",
       "       [-1.23312074e+00],\n",
       "       [-4.37508983e-01],\n",
       "       [ 5.29465324e-01],\n",
       "       [ 2.34415698e-01],\n",
       "       [-1.00016919e+00],\n",
       "       [ 7.42044161e-01],\n",
       "       [ 4.51946037e-01],\n",
       "       [-8.61316361e-01],\n",
       "       [ 2.84748111e-01],\n",
       "       [-1.39649634e+00],\n",
       "       [ 3.26145467e-02],\n",
       "       [ 5.86623191e-01],\n",
       "       [ 2.01830179e-01],\n",
       "       [ 6.17985534e-01],\n",
       "       [-1.67419581e+00],\n",
       "       [ 8.53281222e-01],\n",
       "       [-1.14434139e+00],\n",
       "       [-1.11731035e+00],\n",
       "       [ 1.11584111e+00],\n",
       "       [ 9.56121704e-01],\n",
       "       [ 1.46210794e+00],\n",
       "       [ 9.20017933e-01],\n",
       "       [-1.22890226e-01],\n",
       "       [ 1.23225307e+00],\n",
       "       [-1.57915629e+00],\n",
       "       [ 1.51981682e+00],\n",
       "       [ 1.27375593e+00],\n",
       "       [-8.45080274e-02],\n",
       "       [ 1.90465871e+00],\n",
       "       [-1.08392067e-01],\n",
       "       [-6.06998398e-01],\n",
       "       [ 1.74094083e-02],\n",
       "       [-1.19926803e+00],\n",
       "       [ 2.44936865e+00],\n",
       "       [-9.97019796e-01],\n",
       "       [-6.25342001e-01],\n",
       "       [ 7.62011180e-01]])"
      ]
     },
     "execution_count": 141,
     "metadata": {},
     "output_type": "execute_result"
    }
   ],
   "source": [
    "X_reg"
   ]
  },
  {
   "cell_type": "code",
   "execution_count": 142,
   "metadata": {},
   "outputs": [
    {
     "data": {
      "text/plain": [
       "(500, 1)"
      ]
     },
     "execution_count": 142,
     "metadata": {},
     "output_type": "execute_result"
    }
   ],
   "source": [
    "X_reg.shape"
   ]
  },
  {
   "cell_type": "code",
   "execution_count": 143,
   "metadata": {},
   "outputs": [
    {
     "data": {
      "text/plain": [
       "(500,)"
      ]
     },
     "execution_count": 143,
     "metadata": {},
     "output_type": "execute_result"
    }
   ],
   "source": [
    "y_reg.shape"
   ]
  },
  {
   "cell_type": "code",
   "execution_count": 144,
   "metadata": {},
   "outputs": [
    {
     "data": {
      "text/plain": [
       "[<matplotlib.lines.Line2D at 0x7f5385217c10>]"
      ]
     },
     "execution_count": 144,
     "metadata": {},
     "output_type": "execute_result"
    },
    {
     "data": {
      "image/png": "[encoded data removed]",
      "text/plain": [
       "<Figure size 432x288 with 1 Axes>"
      ]
     },
     "metadata": {
      "needs_background": "light"
     },
     "output_type": "display_data"
    }
   ],
   "source": [
    "# Wir können die Daten zweidimensional plotten.\n",
    "# Die x-Achse stellt die Eingangserte das, die y-Achse\n",
    "# die davon abhängigen Werte.\n",
    "# (mit \"X_reg[:,0]\" wird die erste und einziege Spalte, der prinzipiel\n",
    "# n-dimensionalen Input-Werte-Matrix genutzt)\n",
    "plt.plot(X_reg[:,0], y_reg, \".\")"
   ]
  },
  {
   "cell_type": "code",
   "execution_count": 152,
   "metadata": {},
   "outputs": [],
   "source": [
    "# Wir möchten für diese Daten eine lineares Regression-Modell erstellen,\n",
    "# laden dafür die nötige Klasse und erstellen eine Instanz davon.\n",
    "\n",
    "# y = w_1 * x_1 + w_2 * x_2 + ... + w_n * x_n + b\n",
    "\n",
    "from sklearn.linear_model import LinearRegression\n",
    "linear_regression = LinearRegression()"
   ]
  },
  {
   "cell_type": "code",
   "execution_count": 149,
   "metadata": {},
   "outputs": [],
   "source": [
    "# Wir teilen unsere für eine spätere Bewertung der Güte in ein \n",
    "# Trainings und ein Testset auf.\n",
    "X_reg_train, X_reg_test, y_reg_train, y_reg_test = train_test_split(X_reg, y_reg)"
   ]
  },
  {
   "cell_type": "code",
   "execution_count": 155,
   "metadata": {},
   "outputs": [
    {
     "data": {
      "text/plain": [
       "LinearRegression(copy_X=True, fit_intercept=True, n_jobs=None, normalize=False)"
      ]
     },
     "execution_count": 155,
     "metadata": {},
     "output_type": "execute_result"
    }
   ],
   "source": [
    "# Das Fitting der Parameter erfolg mit der Methode \"fit\"\n",
    "linear_regression.fit(X_reg_train, y_reg_train)"
   ]
  },
  {
   "cell_type": "code",
   "execution_count": 156,
   "metadata": {},
   "outputs": [
    {
     "data": {
      "text/plain": [
       "array([21.47000983])"
      ]
     },
     "execution_count": 156,
     "metadata": {},
     "output_type": "execute_result"
    }
   ],
   "source": [
    "# Wir können uns jetzt die Koeffizienten alss in diesem nut Fall w_1 anschauen. \n",
    "# Die Gerade hat also die Steigung 21.4\n",
    "linear_regression.coef_"
   ]
  },
  {
   "cell_type": "code",
   "execution_count": 157,
   "metadata": {},
   "outputs": [
    {
     "data": {
      "text/plain": [
       "0.3741401814416643"
      ]
     },
     "execution_count": 157,
     "metadata": {},
     "output_type": "execute_result"
    }
   ],
   "source": [
    "# Zudem gibt es noch den y-Achsen-Abschnit bei 0 (Intercept)\n",
    "linear_regression.intercept_"
   ]
  },
  {
   "cell_type": "code",
   "execution_count": 167,
   "metadata": {},
   "outputs": [
    {
     "data": {
      "text/plain": [
       "[<matplotlib.lines.Line2D at 0x7f53852f1810>]"
      ]
     },
     "execution_count": 167,
     "metadata": {},
     "output_type": "execute_result"
    },
    {
     "data": {
      "image/png": "[encoded data removed]",
      "text/plain": [
       "<Figure size 432x288 with 1 Axes>"
      ]
     },
     "metadata": {
      "needs_background": "light"
     },
     "output_type": "display_data"
    }
   ],
   "source": [
    "# Wir können nun die Trainingsdaten und die Gerade, die\n",
    "# das lineare Modell repräsentiert, in einem Plot darstellen.\n",
    "plt.plot(X_reg_train, y_reg_train, \".\")\n",
    "y_lm_predicted = linear_regression.predict(X_reg_train)\n",
    "plt.plot(X_reg_train, y_lm_predicted, \".\")"
   ]
  },
  {
   "cell_type": "code",
   "execution_count": 162,
   "metadata": {},
   "outputs": [
    {
     "data": {
      "text/plain": [
       "array([-14.03752085,  18.32316973,   4.70743611,  29.36094685,\n",
       "        -0.45665278,  22.79832222,   0.72898721,  25.17818245,\n",
       "        -8.96438408,  65.44667218, -15.13562113,   2.42291774,\n",
       "        12.49144564, -23.56215227, -44.58938102,   1.46498318,\n",
       "       -16.41351133,  17.44335824,  -2.26431417,   5.71586062,\n",
       "       -35.57086027,  13.64229567,   1.07437482,   1.31016513,\n",
       "        13.90444743, -16.74324995,  16.00030318,  33.51007546,\n",
       "       -39.84264442,  -9.91396466,  -3.51022048, -10.54243949,\n",
       "         1.67844748, -16.2685874 , -39.51674871,  10.03898347,\n",
       "       -18.98396119,  -2.54529435, -17.44965857,  -7.00941143,\n",
       "        -6.20006298, -15.66735573, -23.59648208,  35.01302475,\n",
       "        17.66594492,  -6.73851273,  -3.89491069, -18.11833055,\n",
       "       -29.60864987,  31.53634068,  -9.2257145 ,   2.65474311,\n",
       "       -14.68373155,  -6.63580725, -23.61452399, -40.34074748,\n",
       "         6.4431905 , -15.96897946,  -8.70460294,  -3.7099071 ,\n",
       "        54.65731796, -37.32560058, -26.9477088 ,  -0.38520951,\n",
       "       -18.25686186,  -3.32789513,  11.00633218,   7.10601282,\n",
       "        10.06321244,  37.83526591, -16.32649647,  24.3804752 ,\n",
       "        20.90208257,   7.22391271,  44.48693986,  23.96960225,\n",
       "        17.78528057,  18.68170477,  40.44729896,   2.98964407,\n",
       "        14.86020327,  44.72652838,  13.70879187,   4.63163712,\n",
       "        -5.99474828,   7.1508256 ,  -1.99715856, -22.66250668,\n",
       "        -4.7021635 ,   1.13332181,  26.83062573,  -4.39924723,\n",
       "        19.17841057,  10.39297572,   3.14595237,   6.50570286,\n",
       "        42.60783408,  -9.91336744, -23.25616437, -45.01698001,\n",
       "       -12.93728403,   4.90699075,  19.37812968,  -4.53746441,\n",
       "        15.0285256 , -43.85710111,  19.71552627,  13.6541814 ,\n",
       "       -41.53757953, -26.18111397, -49.03991827, -22.05320412,\n",
       "        19.73130182,   1.28046974,   9.39760323,  17.22317377,\n",
       "         4.17836228,  24.95136949, -17.90662114, -11.05292948,\n",
       "        -2.21223536,  -1.91872776,  24.49381034, -20.10182112,\n",
       "        41.97290286])"
      ]
     },
     "execution_count": 162,
     "metadata": {},
     "output_type": "execute_result"
    }
   ],
   "source": [
    "# Dieses trainierte Modell kann nun auf neue Werte angewandt werden\n",
    "# zum Beipiel unserer Test-Datenset\n",
    "linear_regression.predict(X_reg_test)"
   ]
  },
  {
   "cell_type": "code",
   "execution_count": 220,
   "metadata": {},
   "outputs": [
    {
     "data": {
      "text/plain": [
       "0.6112124559115575"
      ]
     },
     "execution_count": 220,
     "metadata": {},
     "output_type": "execute_result"
    }
   ],
   "source": [
    "# Für das Testdatenset kennen wir die tatsächlichen y-Werte und\n",
    "# können mit der Methode \"score\" eine Vorraussage durchführen und\n",
    "# diese mit den Werten vergleich um die Güte der Voraussage zu bewerten.\n",
    "linear_regression.score(X_reg_test, y_reg_test)"
   ]
  },
  {
   "cell_type": "code",
   "execution_count": 163,
   "metadata": {},
   "outputs": [
    {
     "data": {
      "text/plain": [
       "0.44730961629856114"
      ]
     },
     "execution_count": 163,
     "metadata": {},
     "output_type": "execute_result"
    }
   ],
   "source": [
    "# Das gleiche Vorgehene können wir nun mit anderen Regression-Methoden\n",
    "# nutzen. Zum Beispiel mit der SVM-Methode\n",
    "from sklearn.svm import SVR\n",
    "svm_regression = SVR()\n",
    "svm_regression.fit(X_reg_train, y_reg_train)\n",
    "svm_regression.score(X_reg_test, y_reg_test)"
   ]
  },
  {
   "cell_type": "code",
   "execution_count": 166,
   "metadata": {},
   "outputs": [
    {
     "data": {
      "text/plain": [
       "[<matplotlib.lines.Line2D at 0x7f538462f0d0>]"
      ]
     },
     "execution_count": 166,
     "metadata": {},
     "output_type": "execute_result"
    },
    {
     "data": {
      "image/png": "[encoded data removed]",
      "text/plain": [
       "<Figure size 432x288 with 1 Axes>"
      ]
     },
     "metadata": {
      "needs_background": "light"
     },
     "output_type": "display_data"
    }
   ],
   "source": [
    "plt.plot(X_reg_train, y_reg_train, \".\")\n",
    "y_svm_predicted = svm_regression.predict(X_reg_train)\n",
    "plt.plot(X_reg_train, y_svm_predicted, \".\")"
   ]
  },
  {
   "cell_type": "markdown",
   "metadata": {},
   "source": [
    "## Dimensionsreduktion\n",
    "\n",
    "In diesem Beispiel wollen wir eine mehrdimensionales Daten set (64 Dimensionen) in seiner Dimensionalität reduzieren um es in 2 Dimensionen plotten zu können. Wir nutzen ein Datenset, das handschriftliche Ziffern in Form von 8x8 Feldern darstellt. Ein Beschreibung des Datensets gib es bei [scikit-learn](https://scikit-learn.org/stable/modules/generated/sklearn.datasets.load_digits.html#sklearn.datasets.load_digits) und im \n",
    "[UC Irvine Machine Learning Repository](https://archive.ics.uci.edu/ml/datasets/Optical+Recognition+of+Handwritten+Digits).\n"
   ]
  },
  {
   "cell_type": "code",
   "execution_count": 2,
   "metadata": {},
   "outputs": [],
   "source": [
    "# Wir laden das Datenset\n",
    "from sklearn.datasets import load_digits\n",
    "digits = load_digits()"
   ]
  },
  {
   "cell_type": "code",
   "execution_count": 171,
   "metadata": {},
   "outputs": [],
   "source": [
    "# Wir wollen mit einer Pricinple Component Analysis die\n",
    "# Reduktion durchführen, laden dafür die Klasse und erzeugen\n",
    "# eine Instanz davon. Wir geben an nur zwei Dimensionen\n",
    "# (\"components\") zu wünschen.\n",
    "from sklearn.decomposition import PCA\n",
    "pca = PCA(random_state=1, n_components=2)"
   ]
  },
  {
   "cell_type": "code",
   "execution_count": 172,
   "metadata": {},
   "outputs": [],
   "source": [
    "# Wir können die Tranformation mit der Funktion\n",
    "# fit_transform durchführen.\n",
    "pca_result = pca.fit_transform(digits.data)"
   ]
  },
  {
   "cell_type": "code",
   "execution_count": 174,
   "metadata": {},
   "outputs": [
    {
     "data": {
      "text/plain": [
       "(1797, 2)"
      ]
     },
     "execution_count": 174,
     "metadata": {},
     "output_type": "execute_result"
    }
   ],
   "source": [
    "# Wir erhalten eine Matrix mit der gleichen Anzahl an Datenpunkte\n",
    "# aber nur zwei Spalten\n",
    "pca_result.shape"
   ]
  },
  {
   "cell_type": "code",
   "execution_count": 192,
   "metadata": {},
   "outputs": [
    {
     "data": {
      "text/plain": [
       "<matplotlib.colorbar.Colorbar at 0x7f537f206e10>"
      ]
     },
     "execution_count": 192,
     "metadata": {},
     "output_type": "execute_result"
    },
    {
     "data": {
      "image/png": "[encoded data removed]",
      "text/plain": [
       "<Figure size 432x288 with 2 Axes>"
      ]
     },
     "metadata": {
      "needs_background": "light"
     },
     "output_type": "display_data"
    }
   ],
   "source": [
    "# Wir können nun die beiden Spalten der resultierenden Matrix \n",
    "# plotten.\n",
    "import matplotlib.pyplot as plt\n",
    "fig, ax = plt.subplots()\n",
    "plt.scatter(pca_result[:, 0], pca_result[:, 1], c=digits.target, cmap=\"Set1\")\n",
    "plt.colorbar()"
   ]
  },
  {
   "cell_type": "code",
   "execution_count": 193,
   "metadata": {},
   "outputs": [],
   "source": [
    "# Wir können das gleich Vorgehen mit dem t-SNE-Verfahren durchführen\n",
    "from sklearn.manifold import TSNE\n",
    "tsne = TSNE(random_state=1, n_components=2)\n",
    "tsne_result = tsne.fit_transform(digits.data)"
   ]
  }
 ],
 "metadata": {
  "kernelspec": {
   "display_name": "Python 3",
   "language": "python",
   "name": "python3"
  },
  "language_info": {
   "codemirror_mode": {
    "name": "ipython",
    "version": 3
   },
   "file_extension": ".py",
   "mimetype": "text/x-python",
   "name": "python",
   "nbconvert_exporter": "python",
   "pygments_lexer": "ipython3",
   "version": "3.7.6"
  }
 },
 "nbformat": 4,
 "nbformat_minor": 2
}
