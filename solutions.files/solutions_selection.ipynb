{
 "cells": [
  {
   "cell_type": "code",
   "execution_count": 52,
   "metadata": {},
   "outputs": [
    {
     "data": {
      "text/plain": [
       "Index(['Patron Type Code', 'Patron Type Definition', 'Total Checkouts',\n",
       "       'Total Renewals', 'Age Range', 'Home Library Code',\n",
       "       'Home Library Definition', 'Circulation Active Month',\n",
       "       'Circulation Active Year', 'Notice Preference Code',\n",
       "       'Notice Preference Definition', 'Provided Email Address',\n",
       "       'Year Patron Registered', 'Outside of County', 'Supervisor District'],\n",
       "      dtype='object')"
      ]
     },
     "execution_count": 52,
     "metadata": {},
     "output_type": "execute_result"
    }
   ],
   "source": [
    "import pandas as pd\n",
    "df = pd.read_csv(\"../data/Library_Usage.csv\")\n",
    "df.columns"
   ]
  },
  {
   "cell_type": "code",
   "execution_count": 53,
   "metadata": {},
   "outputs": [
    {
     "data": {
      "text/plain": [
       "0         2016.0\n",
       "1            NaN\n",
       "2         2016.0\n",
       "3            NaN\n",
       "4            NaN\n",
       "           ...  \n",
       "423443    2015.0\n",
       "423444    2016.0\n",
       "423445    2016.0\n",
       "423446    2015.0\n",
       "423447       NaN\n",
       "Name: Circulation Active Year, Length: 423448, dtype: float64"
      ]
     },
     "execution_count": 53,
     "metadata": {},
     "output_type": "execute_result"
    }
   ],
   "source": [
    "df['Circulation Active Year'] = pd.to_numeric(\n",
    "    df['Circulation Active Year'], errors='coerce'\n",
    ")\n",
    "df['Circulation Active Year']"
   ]
  },
  {
   "cell_type": "code",
   "execution_count": 54,
   "metadata": {
    "scrolled": true
   },
   "outputs": [
    {
     "data": {
      "text/plain": [
       "0         7.0\n",
       "1         NaN\n",
       "2         4.0\n",
       "3         NaN\n",
       "4         NaN\n",
       "         ... \n",
       "423443    3.0\n",
       "423444    7.0\n",
       "423445    7.0\n",
       "423446    4.0\n",
       "423447    NaN\n",
       "Name: Circulation Active Month, Length: 423448, dtype: float64"
      ]
     },
     "execution_count": 54,
     "metadata": {},
     "output_type": "execute_result"
    }
   ],
   "source": [
    "df['Circulation Active Month'] = pd.to_datetime(\n",
    "    df['Circulation Active Month'], errors='coerce', format=\"%B\"\n",
    ")\n",
    "df['Circulation Active Month'] = df['Circulation Active Month'].dt.month\n",
    "df['Circulation Active Month']"
   ]
  },
  {
   "cell_type": "code",
   "execution_count": 55,
   "metadata": {},
   "outputs": [
    {
     "data": {
      "text/plain": [
       "0         13.0\n",
       "1          NaN\n",
       "2          6.0\n",
       "3          NaN\n",
       "4          NaN\n",
       "          ... \n",
       "423443     6.0\n",
       "423444     0.0\n",
       "423445     2.0\n",
       "423446    12.0\n",
       "423447     NaN\n",
       "Name: Membership Duration, Length: 423448, dtype: float64"
      ]
     },
     "execution_count": 55,
     "metadata": {},
     "output_type": "execute_result"
    }
   ],
   "source": [
    "df['Membership Duration'] = df['Circulation Active Year'] - df['Year Patron Registered']\n",
    "df['Membership Duration']"
   ]
  },
  {
   "cell_type": "code",
   "execution_count": 56,
   "metadata": {},
   "outputs": [
    {
     "data": {
      "text/plain": [
       "0         163.0\n",
       "1           NaN\n",
       "2          76.0\n",
       "3           NaN\n",
       "4           NaN\n",
       "          ...  \n",
       "423443     75.0\n",
       "423444      7.0\n",
       "423445     31.0\n",
       "423446    148.0\n",
       "423447      NaN\n",
       "Name: Membership Duration, Length: 423448, dtype: float64"
      ]
     },
     "execution_count": 56,
     "metadata": {},
     "output_type": "execute_result"
    }
   ],
   "source": [
    "df['Membership Duration'] = df['Membership Duration']*12 + df['Circulation Active Month']\n",
    "df['Membership Duration']"
   ]
  },
  {
   "cell_type": "code",
   "execution_count": 57,
   "metadata": {},
   "outputs": [
    {
     "data": {
      "text/plain": [
       "0         163.0\n",
       "1           0.0\n",
       "2          76.0\n",
       "3           0.0\n",
       "4           0.0\n",
       "          ...  \n",
       "423443     75.0\n",
       "423444      7.0\n",
       "423445     31.0\n",
       "423446    148.0\n",
       "423447      0.0\n",
       "Name: Membership Duration, Length: 423448, dtype: float64"
      ]
     },
     "execution_count": 57,
     "metadata": {},
     "output_type": "execute_result"
    }
   ],
   "source": [
    "df['Membership Duration'].fillna(0, inplace=True)\n",
    "df['Membership Duration']"
   ]
  },
  {
   "cell_type": "code",
   "execution_count": 45,
   "metadata": {},
   "outputs": [
    {
     "name": "stdout",
     "output_type": "stream",
     "text": [
      "38242\n",
      "3\n",
      "70091\n",
      "0.16035971358938997\n"
     ]
    }
   ],
   "source": [
    "# Filter Sie den Datensatz nach Kindern unter 10 Jahren. Wie viele Einträge erhalten Sie?\n",
    "\n",
    "# alternative\n",
    "(df['Age Range'] == '0 to 9 years').sum()\n",
    "\n",
    "print(len(df[df['Age Range'] == '0 to 9 years']))\n",
    "\n",
    "# Gibt es Personen mit mehr als 20000 Ausleihen?\n",
    "\n",
    "# alternative\n",
    "(df['Total Checkouts'] > 20000).sum()\n",
    "\n",
    "print(len(df[df['Total Checkouts'] > 20000]))\n",
    "\n",
    "\n",
    "# Wie viele Personen stammen aus dem Norden San Franciscos (Supervisor Districts 1, 2 und 3)? Nutzen Sie die Funktion Series.isin().\n",
    "\n",
    "print(len(df[df['Supervisor District'].isin([1, 2, 3])]))\n",
    "\n",
    "# alternative\n",
    "df['Supervisor District'].isin([1, 2, 3]).sum()\n",
    "\n",
    "\n",
    "# Wie viele Prozent der Beobachtungen haben eine Membership Duration von Null Monaten?\n",
    "\n",
    "# alternative\n",
    "(df['Membership Duration'] == 0).mean()\n",
    "\n",
    "print(len(df[df['Membership Duration'] == 0])/len(df))\n",
    "\n"
   ]
  }
 ],
 "metadata": {
  "kernelspec": {
   "display_name": "Python 3",
   "language": "python",
   "name": "python3"
  },
  "language_info": {
   "codemirror_mode": {
    "name": "ipython",
    "version": 3
   },
   "file_extension": ".py",
   "mimetype": "text/x-python",
   "name": "python",
   "nbconvert_exporter": "python",
   "pygments_lexer": "ipython3",
   "version": "3.7.4"
  }
 },
 "nbformat": 4,
 "nbformat_minor": 2
}
